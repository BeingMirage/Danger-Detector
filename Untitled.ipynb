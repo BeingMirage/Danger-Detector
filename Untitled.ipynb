{
 "cells": [
  {
   "cell_type": "code",
   "execution_count": 2,
   "id": "7b59e706-16a3-4e46-aff5-e964a1855004",
   "metadata": {},
   "outputs": [],
   "source": [
    "name = \"amey\""
   ]
  },
  {
   "cell_type": "code",
   "execution_count": 4,
   "id": "758f6e6b-23af-48c8-a99e-5847cfb5e26b",
   "metadata": {},
   "outputs": [
    {
     "name": "stdout",
     "output_type": "stream",
     "text": [
      "my name is amey\n"
     ]
    }
   ],
   "source": [
    "print(f\"my name is {name}\")"
   ]
  },
  {
   "cell_type": "code",
   "execution_count": null,
   "id": "42db1b53-b1f6-4ded-bf46-ea5b26145037",
   "metadata": {},
   "outputs": [],
   "source": []
  }
 ],
 "metadata": {
  "kernelspec": {
   "display_name": "Python 3 (ipykernel)",
   "language": "python",
   "name": "python3"
  },
  "language_info": {
   "codemirror_mode": {
    "name": "ipython",
    "version": 3
   },
   "file_extension": ".py",
   "mimetype": "text/x-python",
   "name": "python",
   "nbconvert_exporter": "python",
   "pygments_lexer": "ipython3",
   "version": "3.13.5"
  }
 },
 "nbformat": 4,
 "nbformat_minor": 5
}
