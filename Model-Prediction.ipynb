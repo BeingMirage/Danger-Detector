{
 "cells": [
  {
   "cell_type": "code",
   "execution_count": 22,
   "id": "0433b1bc-1695-4891-8d85-751da2ca5c1c",
   "metadata": {},
   "outputs": [],
   "source": [
    "from ultralytics import YOLO"
   ]
  },
  {
   "cell_type": "code",
   "execution_count": 23,
   "id": "be356ae3-6fd6-4db3-a423-e6cac00348e2",
   "metadata": {},
   "outputs": [],
   "source": [
    "model = YOLO(\"outputs/train3/weights/best.pt\")"
   ]
  },
  {
   "cell_type": "code",
   "execution_count": 24,
   "id": "a3dc05da-66bc-4db1-a302-84a561eac721",
   "metadata": {},
   "outputs": [
    {
     "name": "stdout",
     "output_type": "stream",
     "text": [
      "\n",
      "video 1/1 (frame 1/503) C:\\Users\\ameyg\\Desktop\\PythonProjects\\Danger-Detector\\video.mp4: 384x640 1 cigarette, 19.4ms\n",
      "video 1/1 (frame 2/503) C:\\Users\\ameyg\\Desktop\\PythonProjects\\Danger-Detector\\video.mp4: 384x640 (no detections), 17.2ms\n",
      "video 1/1 (frame 3/503) C:\\Users\\ameyg\\Desktop\\PythonProjects\\Danger-Detector\\video.mp4: 384x640 1 cigarette, 26.2ms\n",
      "video 1/1 (frame 4/503) C:\\Users\\ameyg\\Desktop\\PythonProjects\\Danger-Detector\\video.mp4: 384x640 (no detections), 25.4ms\n",
      "video 1/1 (frame 5/503) C:\\Users\\ameyg\\Desktop\\PythonProjects\\Danger-Detector\\video.mp4: 384x640 (no detections), 27.8ms\n",
      "video 1/1 (frame 6/503) C:\\Users\\ameyg\\Desktop\\PythonProjects\\Danger-Detector\\video.mp4: 384x640 1 cigarette, 17.3ms\n",
      "video 1/1 (frame 7/503) C:\\Users\\ameyg\\Desktop\\PythonProjects\\Danger-Detector\\video.mp4: 384x640 (no detections), 27.5ms\n",
      "video 1/1 (frame 8/503) C:\\Users\\ameyg\\Desktop\\PythonProjects\\Danger-Detector\\video.mp4: 384x640 (no detections), 24.0ms\n",
      "video 1/1 (frame 9/503) C:\\Users\\ameyg\\Desktop\\PythonProjects\\Danger-Detector\\video.mp4: 384x640 1 cigarette, 24.0ms\n",
      "video 1/1 (frame 10/503) C:\\Users\\ameyg\\Desktop\\PythonProjects\\Danger-Detector\\video.mp4: 384x640 (no detections), 17.2ms\n",
      "video 1/1 (frame 11/503) C:\\Users\\ameyg\\Desktop\\PythonProjects\\Danger-Detector\\video.mp4: 384x640 1 cigarette, 28.0ms\n",
      "video 1/1 (frame 12/503) C:\\Users\\ameyg\\Desktop\\PythonProjects\\Danger-Detector\\video.mp4: 384x640 1 cigarette, 26.5ms\n",
      "video 1/1 (frame 13/503) C:\\Users\\ameyg\\Desktop\\PythonProjects\\Danger-Detector\\video.mp4: 384x640 1 cigarette, 23.6ms\n",
      "video 1/1 (frame 14/503) C:\\Users\\ameyg\\Desktop\\PythonProjects\\Danger-Detector\\video.mp4: 384x640 2 cigarettes, 24.9ms\n",
      "video 1/1 (frame 15/503) C:\\Users\\ameyg\\Desktop\\PythonProjects\\Danger-Detector\\video.mp4: 384x640 (no detections), 26.8ms\n"
     ]
    },
    {
     "ename": "KeyboardInterrupt",
     "evalue": "",
     "output_type": "error",
     "traceback": [
      "\u001b[31m---------------------------------------------------------------------------\u001b[39m",
      "\u001b[31mAttributeError\u001b[39m                            Traceback (most recent call last)",
      "\u001b[36mFile \u001b[39m\u001b[32m~\\anaconda3\\envs\\DangerDetector\\Lib\\site-packages\\PIL\\ImageFile.py:547\u001b[39m, in \u001b[36m_save\u001b[39m\u001b[34m(im, fp, tile, bufsize)\u001b[39m\n\u001b[32m    546\u001b[39m \u001b[38;5;28;01mtry\u001b[39;00m:\n\u001b[32m--> \u001b[39m\u001b[32m547\u001b[39m     fh = fp.fileno()\n\u001b[32m    548\u001b[39m     fp.flush()\n",
      "\u001b[31mAttributeError\u001b[39m: '_idat' object has no attribute 'fileno'",
      "\nDuring handling of the above exception, another exception occurred:\n",
      "\u001b[31mKeyboardInterrupt\u001b[39m                         Traceback (most recent call last)",
      "\u001b[36mCell\u001b[39m\u001b[36m \u001b[39m\u001b[32mIn[24]\u001b[39m\u001b[32m, line 10\u001b[39m\n\u001b[32m      8\u001b[39m probs = result.probs  \u001b[38;5;66;03m# Probs object for classification outputs\u001b[39;00m\n\u001b[32m      9\u001b[39m obb = result.obb  \u001b[38;5;66;03m# Oriented boxes object for OBB outputs\u001b[39;00m\n\u001b[32m---> \u001b[39m\u001b[32m10\u001b[39m result.show()\n",
      "\u001b[36mFile \u001b[39m\u001b[32m~\\AppData\\Roaming\\Python\\Python313\\site-packages\\ultralytics\\engine\\results.py:634\u001b[39m, in \u001b[36mResults.show\u001b[39m\u001b[34m(self, *args, **kwargs)\u001b[39m\n\u001b[32m    617\u001b[39m \u001b[38;5;28;01mdef\u001b[39;00m\u001b[38;5;250m \u001b[39m\u001b[34mshow\u001b[39m(\u001b[38;5;28mself\u001b[39m, *args, **kwargs):\n\u001b[32m    618\u001b[39m \u001b[38;5;250m    \u001b[39m\u001b[33;03m\"\"\"\u001b[39;00m\n\u001b[32m    619\u001b[39m \u001b[33;03m    Display the image with annotated inference results.\u001b[39;00m\n\u001b[32m    620\u001b[39m \n\u001b[32m   (...)\u001b[39m\u001b[32m    632\u001b[39m \u001b[33;03m        >>>     result.show()  # Display all results\u001b[39;00m\n\u001b[32m    633\u001b[39m \u001b[33;03m    \"\"\"\u001b[39;00m\n\u001b[32m--> \u001b[39m\u001b[32m634\u001b[39m     \u001b[38;5;28mself\u001b[39m.plot(show=\u001b[38;5;28;01mTrue\u001b[39;00m, *args, **kwargs)\n",
      "\u001b[36mFile \u001b[39m\u001b[32m~\\AppData\\Roaming\\Python\\Python313\\site-packages\\ultralytics\\engine\\results.py:609\u001b[39m, in \u001b[36mResults.plot\u001b[39m\u001b[34m(self, conf, line_width, font_size, font, pil, img, im_gpu, kpt_radius, kpt_line, labels, boxes, masks, probs, show, save, filename, color_mode, txt_color)\u001b[39m\n\u001b[32m    607\u001b[39m \u001b[38;5;66;03m# Show results\u001b[39;00m\n\u001b[32m    608\u001b[39m \u001b[38;5;28;01mif\u001b[39;00m show:\n\u001b[32m--> \u001b[39m\u001b[32m609\u001b[39m     annotator.show(\u001b[38;5;28mself\u001b[39m.path)\n\u001b[32m    611\u001b[39m \u001b[38;5;66;03m# Save results\u001b[39;00m\n\u001b[32m    612\u001b[39m \u001b[38;5;28;01mif\u001b[39;00m save:\n",
      "\u001b[36mFile \u001b[39m\u001b[32m~\\AppData\\Roaming\\Python\\Python313\\site-packages\\ultralytics\\utils\\plotting.py:521\u001b[39m, in \u001b[36mAnnotator.show\u001b[39m\u001b[34m(self, title)\u001b[39m\n\u001b[32m    519\u001b[39m         LOGGER.warning(\u001b[33mf\u001b[39m\u001b[33m\"\u001b[39m\u001b[33mUnable to display image in Jupyter notebooks: \u001b[39m\u001b[38;5;132;01m{\u001b[39;00me\u001b[38;5;132;01m}\u001b[39;00m\u001b[33m\"\u001b[39m)\n\u001b[32m    520\u001b[39m \u001b[38;5;28;01melse\u001b[39;00m:\n\u001b[32m--> \u001b[39m\u001b[32m521\u001b[39m     im.show(title=title)\n",
      "\u001b[36mFile \u001b[39m\u001b[32m~\\anaconda3\\envs\\DangerDetector\\Lib\\site-packages\\PIL\\Image.py:2623\u001b[39m, in \u001b[36mImage.show\u001b[39m\u001b[34m(self, title)\u001b[39m\n\u001b[32m   2603\u001b[39m \u001b[38;5;28;01mdef\u001b[39;00m\u001b[38;5;250m \u001b[39m\u001b[34mshow\u001b[39m(\u001b[38;5;28mself\u001b[39m, title: \u001b[38;5;28mstr\u001b[39m | \u001b[38;5;28;01mNone\u001b[39;00m = \u001b[38;5;28;01mNone\u001b[39;00m) -> \u001b[38;5;28;01mNone\u001b[39;00m:\n\u001b[32m   2604\u001b[39m \u001b[38;5;250m    \u001b[39m\u001b[33;03m\"\"\"\u001b[39;00m\n\u001b[32m   2605\u001b[39m \u001b[33;03m    Displays this image. This method is mainly intended for debugging purposes.\u001b[39;00m\n\u001b[32m   2606\u001b[39m \n\u001b[32m   (...)\u001b[39m\u001b[32m   2620\u001b[39m \u001b[33;03m    :param title: Optional title to use for the image window, where possible.\u001b[39;00m\n\u001b[32m   2621\u001b[39m \u001b[33;03m    \"\"\"\u001b[39;00m\n\u001b[32m-> \u001b[39m\u001b[32m2623\u001b[39m     _show(\u001b[38;5;28mself\u001b[39m, title=title)\n",
      "\u001b[36mFile \u001b[39m\u001b[32m~\\anaconda3\\envs\\DangerDetector\\Lib\\site-packages\\PIL\\Image.py:3734\u001b[39m, in \u001b[36m_show\u001b[39m\u001b[34m(image, **options)\u001b[39m\n\u001b[32m   3731\u001b[39m \u001b[38;5;28;01mdef\u001b[39;00m\u001b[38;5;250m \u001b[39m\u001b[34m_show\u001b[39m(image: Image, **options: Any) -> \u001b[38;5;28;01mNone\u001b[39;00m:\n\u001b[32m   3732\u001b[39m     \u001b[38;5;28;01mfrom\u001b[39;00m\u001b[38;5;250m \u001b[39m\u001b[34;01m.\u001b[39;00m\u001b[38;5;250m \u001b[39m\u001b[38;5;28;01mimport\u001b[39;00m ImageShow\n\u001b[32m-> \u001b[39m\u001b[32m3734\u001b[39m     ImageShow.show(image, **options)\n",
      "\u001b[36mFile \u001b[39m\u001b[32m~\\anaconda3\\envs\\DangerDetector\\Lib\\site-packages\\PIL\\ImageShow.py:64\u001b[39m, in \u001b[36mshow\u001b[39m\u001b[34m(image, title, **options)\u001b[39m\n\u001b[32m     55\u001b[39m \u001b[38;5;250m\u001b[39m\u001b[33mr\u001b[39m\u001b[33;03m\"\"\"\u001b[39;00m\n\u001b[32m     56\u001b[39m \u001b[33;03mDisplay a given image.\u001b[39;00m\n\u001b[32m     57\u001b[39m \n\u001b[32m   (...)\u001b[39m\u001b[32m     61\u001b[39m \u001b[33;03m:returns: ``True`` if a suitable viewer was found, ``False`` otherwise.\u001b[39;00m\n\u001b[32m     62\u001b[39m \u001b[33;03m\"\"\"\u001b[39;00m\n\u001b[32m     63\u001b[39m \u001b[38;5;28;01mfor\u001b[39;00m viewer \u001b[38;5;129;01min\u001b[39;00m _viewers:\n\u001b[32m---> \u001b[39m\u001b[32m64\u001b[39m     \u001b[38;5;28;01mif\u001b[39;00m viewer.show(image, title=title, **options):\n\u001b[32m     65\u001b[39m         \u001b[38;5;28;01mreturn\u001b[39;00m \u001b[38;5;28;01mTrue\u001b[39;00m\n\u001b[32m     66\u001b[39m \u001b[38;5;28;01mreturn\u001b[39;00m \u001b[38;5;28;01mFalse\u001b[39;00m\n",
      "\u001b[36mFile \u001b[39m\u001b[32m~\\anaconda3\\envs\\DangerDetector\\Lib\\site-packages\\PIL\\ImageShow.py:88\u001b[39m, in \u001b[36mViewer.show\u001b[39m\u001b[34m(self, image, **options)\u001b[39m\n\u001b[32m     85\u001b[39m     \u001b[38;5;28;01mif\u001b[39;00m image.mode != base:\n\u001b[32m     86\u001b[39m         image = image.convert(base)\n\u001b[32m---> \u001b[39m\u001b[32m88\u001b[39m \u001b[38;5;28;01mreturn\u001b[39;00m \u001b[38;5;28mself\u001b[39m.show_image(image, **options)\n",
      "\u001b[36mFile \u001b[39m\u001b[32m~\\anaconda3\\envs\\DangerDetector\\Lib\\site-packages\\PIL\\ImageShow.py:115\u001b[39m, in \u001b[36mViewer.show_image\u001b[39m\u001b[34m(self, image, **options)\u001b[39m\n\u001b[32m    113\u001b[39m \u001b[38;5;28;01mdef\u001b[39;00m\u001b[38;5;250m \u001b[39m\u001b[34mshow_image\u001b[39m(\u001b[38;5;28mself\u001b[39m, image: Image.Image, **options: Any) -> \u001b[38;5;28mint\u001b[39m:\n\u001b[32m    114\u001b[39m \u001b[38;5;250m    \u001b[39m\u001b[33;03m\"\"\"Display the given image.\"\"\"\u001b[39;00m\n\u001b[32m--> \u001b[39m\u001b[32m115\u001b[39m     \u001b[38;5;28;01mreturn\u001b[39;00m \u001b[38;5;28mself\u001b[39m.show_file(\u001b[38;5;28mself\u001b[39m.save_image(image), **options)\n",
      "\u001b[36mFile \u001b[39m\u001b[32m~\\anaconda3\\envs\\DangerDetector\\Lib\\site-packages\\PIL\\ImageShow.py:111\u001b[39m, in \u001b[36mViewer.save_image\u001b[39m\u001b[34m(self, image)\u001b[39m\n\u001b[32m    109\u001b[39m \u001b[38;5;28;01mdef\u001b[39;00m\u001b[38;5;250m \u001b[39m\u001b[34msave_image\u001b[39m(\u001b[38;5;28mself\u001b[39m, image: Image.Image) -> \u001b[38;5;28mstr\u001b[39m:\n\u001b[32m    110\u001b[39m \u001b[38;5;250m    \u001b[39m\u001b[33;03m\"\"\"Save to temporary file and return filename.\"\"\"\u001b[39;00m\n\u001b[32m--> \u001b[39m\u001b[32m111\u001b[39m     \u001b[38;5;28;01mreturn\u001b[39;00m image._dump(\u001b[38;5;28mformat\u001b[39m=\u001b[38;5;28mself\u001b[39m.get_format(image), **\u001b[38;5;28mself\u001b[39m.options)\n",
      "\u001b[36mFile \u001b[39m\u001b[32m~\\anaconda3\\envs\\DangerDetector\\Lib\\site-packages\\PIL\\Image.py:663\u001b[39m, in \u001b[36mImage._dump\u001b[39m\u001b[34m(self, file, format, **options)\u001b[39m\n\u001b[32m    661\u001b[39m     \u001b[38;5;28mself\u001b[39m.im.save_ppm(filename)\n\u001b[32m    662\u001b[39m \u001b[38;5;28;01melse\u001b[39;00m:\n\u001b[32m--> \u001b[39m\u001b[32m663\u001b[39m     \u001b[38;5;28mself\u001b[39m.save(filename, \u001b[38;5;28mformat\u001b[39m, **options)\n\u001b[32m    665\u001b[39m \u001b[38;5;28;01mreturn\u001b[39;00m filename\n",
      "\u001b[36mFile \u001b[39m\u001b[32m~\\anaconda3\\envs\\DangerDetector\\Lib\\site-packages\\PIL\\Image.py:2568\u001b[39m, in \u001b[36mImage.save\u001b[39m\u001b[34m(self, fp, format, **params)\u001b[39m\n\u001b[32m   2565\u001b[39m     fp = cast(IO[\u001b[38;5;28mbytes\u001b[39m], fp)\n\u001b[32m   2567\u001b[39m \u001b[38;5;28;01mtry\u001b[39;00m:\n\u001b[32m-> \u001b[39m\u001b[32m2568\u001b[39m     save_handler(\u001b[38;5;28mself\u001b[39m, fp, filename)\n\u001b[32m   2569\u001b[39m \u001b[38;5;28;01mexcept\u001b[39;00m \u001b[38;5;167;01mException\u001b[39;00m:\n\u001b[32m   2570\u001b[39m     \u001b[38;5;28;01mif\u001b[39;00m open_fp:\n",
      "\u001b[36mFile \u001b[39m\u001b[32m~\\anaconda3\\envs\\DangerDetector\\Lib\\site-packages\\PIL\\PngImagePlugin.py:1247\u001b[39m, in \u001b[36m_save_all\u001b[39m\u001b[34m(im, fp, filename)\u001b[39m\n\u001b[32m   1246\u001b[39m \u001b[38;5;28;01mdef\u001b[39;00m\u001b[38;5;250m \u001b[39m\u001b[34m_save_all\u001b[39m(im: Image.Image, fp: IO[\u001b[38;5;28mbytes\u001b[39m], filename: \u001b[38;5;28mstr\u001b[39m | \u001b[38;5;28mbytes\u001b[39m) -> \u001b[38;5;28;01mNone\u001b[39;00m:\n\u001b[32m-> \u001b[39m\u001b[32m1247\u001b[39m     _save(im, fp, filename, save_all=\u001b[38;5;28;01mTrue\u001b[39;00m)\n",
      "\u001b[36mFile \u001b[39m\u001b[32m~\\anaconda3\\envs\\DangerDetector\\Lib\\site-packages\\PIL\\PngImagePlugin.py:1431\u001b[39m, in \u001b[36m_save\u001b[39m\u001b[34m(im, fp, filename, chunk, save_all)\u001b[39m\n\u001b[32m   1427\u001b[39m     im = _write_multiple_frames(\n\u001b[32m   1428\u001b[39m         im, fp, chunk, mode, rawmode, default_image, append_images\n\u001b[32m   1429\u001b[39m     )\n\u001b[32m   1430\u001b[39m \u001b[38;5;28;01mif\u001b[39;00m im:\n\u001b[32m-> \u001b[39m\u001b[32m1431\u001b[39m     ImageFile._save(im, _idat(fp, chunk), [(\u001b[33m\"\u001b[39m\u001b[33mzip\u001b[39m\u001b[33m\"\u001b[39m, (\u001b[32m0\u001b[39m, \u001b[32m0\u001b[39m) + im.size, \u001b[32m0\u001b[39m, rawmode)])\n\u001b[32m   1433\u001b[39m \u001b[38;5;28;01mif\u001b[39;00m info:\n\u001b[32m   1434\u001b[39m     \u001b[38;5;28;01mfor\u001b[39;00m info_chunk \u001b[38;5;129;01min\u001b[39;00m info.chunks:\n",
      "\u001b[36mFile \u001b[39m\u001b[32m~\\anaconda3\\envs\\DangerDetector\\Lib\\site-packages\\PIL\\ImageFile.py:551\u001b[39m, in \u001b[36m_save\u001b[39m\u001b[34m(im, fp, tile, bufsize)\u001b[39m\n\u001b[32m    549\u001b[39m     _encode_tile(im, fp, tile, bufsize, fh)\n\u001b[32m    550\u001b[39m \u001b[38;5;28;01mexcept\u001b[39;00m (\u001b[38;5;167;01mAttributeError\u001b[39;00m, io.UnsupportedOperation) \u001b[38;5;28;01mas\u001b[39;00m exc:\n\u001b[32m--> \u001b[39m\u001b[32m551\u001b[39m     _encode_tile(im, fp, tile, bufsize, \u001b[38;5;28;01mNone\u001b[39;00m, exc)\n\u001b[32m    552\u001b[39m \u001b[38;5;28;01mif\u001b[39;00m \u001b[38;5;28mhasattr\u001b[39m(fp, \u001b[33m\"\u001b[39m\u001b[33mflush\u001b[39m\u001b[33m\"\u001b[39m):\n\u001b[32m    553\u001b[39m     fp.flush()\n",
      "\u001b[36mFile \u001b[39m\u001b[32m~\\anaconda3\\envs\\DangerDetector\\Lib\\site-packages\\PIL\\ImageFile.py:570\u001b[39m, in \u001b[36m_encode_tile\u001b[39m\u001b[34m(im, fp, tile, bufsize, fh, exc)\u001b[39m\n\u001b[32m    567\u001b[39m \u001b[38;5;28;01mif\u001b[39;00m exc:\n\u001b[32m    568\u001b[39m     \u001b[38;5;66;03m# compress to Python file-compatible object\u001b[39;00m\n\u001b[32m    569\u001b[39m     \u001b[38;5;28;01mwhile\u001b[39;00m \u001b[38;5;28;01mTrue\u001b[39;00m:\n\u001b[32m--> \u001b[39m\u001b[32m570\u001b[39m         errcode, data = encoder.encode(bufsize)[\u001b[32m1\u001b[39m:]\n\u001b[32m    571\u001b[39m         fp.write(data)\n\u001b[32m    572\u001b[39m         \u001b[38;5;28;01mif\u001b[39;00m errcode:\n",
      "\u001b[31mKeyboardInterrupt\u001b[39m: "
     ]
    }
   ],
   "source": [
    "results = model(\"video.mp4\")\n",
    "\n",
    "# Process results list\n",
    "for result in results:\n",
    "    boxes = result.boxes  # Boxes object for bounding box outputs\n",
    "    masks = result.masks  # Masks object for segmentation masks outputs\n",
    "    keypoints = result.keypoints  # Keypoints object for pose outputs\n",
    "    probs = result.probs  # Probs object for classification outputs\n",
    "    obb = result.obb  # Oriented boxes object for OBB outputs\n",
    "    result.show()  # display to screen\n",
    "    # result.save(filename=\"result.jpg\")  # save to disk"
   ]
  },
  {
   "cell_type": "code",
   "execution_count": null,
   "id": "725c3732-c515-4c6d-837c-7ca24702fad3",
   "metadata": {},
   "outputs": [],
   "source": []
  }
 ],
 "metadata": {
  "kernelspec": {
   "display_name": "DangerDetectorKernel",
   "language": "python",
   "name": "dangerdetectorkernel"
  },
  "language_info": {
   "codemirror_mode": {
    "name": "ipython",
    "version": 3
   },
   "file_extension": ".py",
   "mimetype": "text/x-python",
   "name": "python",
   "nbconvert_exporter": "python",
   "pygments_lexer": "ipython3",
   "version": "3.13.2"
  }
 },
 "nbformat": 4,
 "nbformat_minor": 5
}
