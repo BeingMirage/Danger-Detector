{
 "cells": [
  {
   "cell_type": "markdown",
   "id": "17c20aa4-32b8-4562-92fd-8866a1a8caf2",
   "metadata": {},
   "source": [
    "The Model trained in the \"Model-Training\" Notebook has been\"moved to the outputs folder"
   ]
  },
  {
   "cell_type": "code",
   "execution_count": 1,
   "id": "8259a6b5-3e1f-41c3-9bf7-2140766b51e6",
   "metadata": {},
   "outputs": [],
   "source": [
    "from ultralytics import YOLO"
   ]
  },
  {
   "cell_type": "code",
   "execution_count": 4,
   "id": "2a71ddb7-6106-44f5-807a-3b7dfe957a7c",
   "metadata": {},
   "outputs": [],
   "source": [
    "model = YOLO(\"outputs/train3/weights/best.pt\")  # load a custom trained model"
   ]
  },
  {
   "cell_type": "code",
   "execution_count": null,
   "id": "26799344-564f-4061-9531-548ced0f2774",
   "metadata": {},
   "outputs": [
    {
     "name": "stdout",
     "output_type": "stream",
     "text": [
      "Ultralytics 8.3.158  Python-3.13.2 torch-2.7.1+cu128 CUDA:0 (NVIDIA GeForce RTX 4060 Laptop GPU, 8188MiB)\n",
      "\u001b[34m\u001b[1mval: \u001b[0mFast image access  (ping: 0.10.0 ms, read: 480.1242.4 MB/s, size: 34.5 KB)\n"
     ]
    },
    {
     "name": "stderr",
     "output_type": "stream",
     "text": [
      "\u001b[34m\u001b[1mval: \u001b[0mScanning C:\\Users\\ameyg\\Desktop\\PythonProjects\\Danger-Detector\\data\\yolo_hard\\validation\\labels.cache... 522 images, 0 backgrounds, 0 corrupt: 100%|██████████| 522/522 [00:00<?, ?it/s]\n",
      "                 Class     Images  Instances      Box(P          R      mAP50  mAP50-95):  58%|█████▊    | 19/33 [00:02<00:01, 10.90it/s]"
     ]
    }
   ],
   "source": [
    "# Run validation and save outputs to Danger-Detector/outputs/\n",
    "metrics = model.val(\n",
    "    project=\"outputs\",  # path to save under\n",
    "    name=\"val\",         # subfolder name \n",
    "    save=True           # save annotated images and metrics\n",
    ")\n",
    "\n",
    "# Print key metrics\n",
    "print(\"mAP50-95:\", metrics.box.map)\n",
    "print(\"mAP50:\", metrics.box.map50)\n",
    "print(\"mAP75:\", metrics.box.map75)\n",
    "print(\"Per-class mAPs:\", metrics.box.maps)"
   ]
  },
  {
   "cell_type": "code",
   "execution_count": null,
   "id": "1e46c259-1826-4843-bd95-c960f5dc1963",
   "metadata": {},
   "outputs": [],
   "source": []
  },
  {
   "cell_type": "code",
   "execution_count": null,
   "id": "d4b9d3aa-7f28-4de6-92c5-c9adb82641f1",
   "metadata": {},
   "outputs": [],
   "source": []
  }
 ],
 "metadata": {
  "kernelspec": {
   "display_name": "DangerDetectorKernel",
   "language": "python",
   "name": "dangerdetectorkernel"
  },
  "language_info": {
   "codemirror_mode": {
    "name": "ipython",
    "version": 3
   },
   "file_extension": ".py",
   "mimetype": "text/x-python",
   "name": "python",
   "nbconvert_exporter": "python",
   "pygments_lexer": "ipython3",
   "version": "3.13.2"
  }
 },
 "nbformat": 4,
 "nbformat_minor": 5
}
